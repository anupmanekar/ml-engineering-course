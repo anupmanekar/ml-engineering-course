{
 "cells": [
  {
   "cell_type": "code",
   "execution_count": null,
   "id": "76bdb8a6-4be7-4b19-8e38-5e7bab88c9f6",
   "metadata": {},
   "outputs": [],
   "source": [
    "import numpy as np\n",
    "import matplotlib.pyplot as plt"
   ]
  },
  {
   "cell_type": "code",
   "execution_count": null,
   "id": "c3b7bd0d-2082-4172-9f51-4594f275a43b",
   "metadata": {},
   "outputs": [],
   "source": [
    "def plot_series(time, series, format=\"-\", start=0, end=None, label=None):\n",
    "    plt.plot(time[start:end], series[start:end], format, label=label)\n",
    "    plt.xlabel(\"Time\")\n",
    "    plt.ylabel(\"Value\")\n",
    "    if label:\n",
    "        plt.legend(fontsize=14)\n",
    "    plt.grid(True)\n",
    "\n",
    "def trend(time, slope):\n",
    "    return time * slope\n",
    "\n",
    "def seasonal_pattern(season_time):\n",
    "    return np.where(season_time < 0.4,\n",
    "                    np.cos(season_time * 2 * np.pi),\n",
    "                    1 / np.exp(3 * season_time))\n",
    "\n",
    "def seasonality(time, period, amplitude=1, phase=0):\n",
    "    season_time = ((time + phase) % period) / period\n",
    "    return amplitude * seasonal_pattern(season_time)\n",
    "\n",
    "def white_noise(time, noise_level=1, seed=None):\n",
    "    rnd = np.random.RandomState(seed)\n",
    "    return rnd.randn(len(time)) * noise_level"
   ]
  },
  {
   "cell_type": "markdown",
   "id": "61015fa9-30c6-4471-9fd5-32f06b149766",
   "metadata": {},
   "source": [
    "### Add Trend, Seasonality and Noise"
   ]
  },
  {
   "cell_type": "code",
   "execution_count": null,
   "id": "7f69db25-aea2-4b22-b49b-8ae648cfb67a",
   "metadata": {
    "scrolled": true
   },
   "outputs": [],
   "source": [
    "baseline = 10\n",
    "slope = 0.05\n",
    "time = np.arange((365 * 4) + 1)\n",
    "series = baseline + trend(time, slope)\n",
    "\n",
    "amplitude = 40\n",
    "series = series + seasonality(time, 365, amplitude)\n",
    "\n",
    "noise = white_noise(time, 5, 42)\n",
    "series = series + noise\n",
    "\n",
    "plt.figure(figsize=(10,6))\n",
    "plot_series(time, series)\n",
    "plt.show()"
   ]
  },
  {
   "cell_type": "code",
   "execution_count": null,
   "id": "924b913f-c344-451e-82ec-596669cc80c7",
   "metadata": {},
   "outputs": [],
   "source": [
    "split_time = 1000\n",
    "time_train = time[:split_time]\n",
    "x_train = series[:split_time]\n",
    "time_valid = time[split_time:]\n",
    "x_valid = series[split_time:]"
   ]
  },
  {
   "cell_type": "code",
   "execution_count": null,
   "id": "10f1e75f-0f1a-4406-b957-7d3b93b81c02",
   "metadata": {},
   "outputs": [],
   "source": [
    "naive_forecast = series[split_time - 1:-1]"
   ]
  },
  {
   "cell_type": "code",
   "execution_count": null,
   "id": "e7a14f6e-9ed9-4d10-9d02-86723777d11b",
   "metadata": {},
   "outputs": [],
   "source": [
    "naive_forecast"
   ]
  },
  {
   "cell_type": "code",
   "execution_count": null,
   "id": "8ec54dc5-2d71-4e1a-8352-4b058e46d724",
   "metadata": {},
   "outputs": [],
   "source": [
    "plt.figure(figsize=(10, 6))\n",
    "plot_series(time_valid, x_valid, label=\"Series\")\n",
    "plot_series(time_valid, naive_forecast, label=\"Forecast\")"
   ]
  },
  {
   "cell_type": "code",
   "execution_count": null,
   "id": "cfbc500c-fda1-4677-b65d-ff9e26a94826",
   "metadata": {
    "scrolled": true
   },
   "outputs": [],
   "source": [
    "plt.figure(figsize=(10, 6))\n",
    "plot_series(time_valid, x_valid, start=0, end=150, label=\"Series\")\n",
    "plot_series(time_valid, naive_forecast, start=1, end=151, label=\"Forecast\")"
   ]
  },
  {
   "cell_type": "code",
   "execution_count": null,
   "id": "93d71c70-7539-4ddf-a50c-cbaa2e4a8c36",
   "metadata": {},
   "outputs": [],
   "source": [
    "errors = naive_forecast - x_valid\n",
    "abs_errors = np.abs(errors)\n",
    "mae = abs_errors.mean()\n",
    "mae"
   ]
  },
  {
   "cell_type": "code",
   "execution_count": null,
   "id": "12abb497-3b14-4313-9b0f-9d1d71a7fc02",
   "metadata": {},
   "outputs": [],
   "source": []
  }
 ],
 "metadata": {
  "kernelspec": {
   "display_name": "Python 3 (ipykernel)",
   "language": "python",
   "name": "python3"
  },
  "language_info": {
   "codemirror_mode": {
    "name": "ipython",
    "version": 3
   },
   "file_extension": ".py",
   "mimetype": "text/x-python",
   "name": "python",
   "nbconvert_exporter": "python",
   "pygments_lexer": "ipython3",
   "version": "3.9.18"
  }
 },
 "nbformat": 4,
 "nbformat_minor": 5
}
